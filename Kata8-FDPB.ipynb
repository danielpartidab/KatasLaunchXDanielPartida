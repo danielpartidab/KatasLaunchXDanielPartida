{
 "cells": [
  {
   "cell_type": "markdown",
   "metadata": {},
   "source": [
    "## Creacion de diccionario"
   ]
  },
  {
   "cell_type": "code",
   "execution_count": 43,
   "metadata": {},
   "outputs": [
    {
     "name": "stdout",
     "output_type": "stream",
     "text": [
      "El planeta Marte tiene 42 lunas\n",
      "El planeta Marte tiene una circunferencia polar de: 6752\n"
     ]
    }
   ],
   "source": [
    "# Se crea diccionario\n",
    "planet = {\n",
    "    'name': 'Marte',\n",
    "    'moons': 42\n",
    "}\n",
    "\n",
    "print ('El planeta', planet['name'], 'tiene', planet.get('moons'), 'lunas');\n",
    "\n",
    "# Actualizar el diccionario\n",
    "planet['circumference (km)'] = {\n",
    "        'polar': 6752,\n",
    "        'equatorial': 6792\n",
    "    }\n",
    "\n",
    "print ('El planeta', planet['name'], 'tiene una circunferencia polar de:', planet['circumference (km)']['polar']);"
   ]
  },
  {
   "cell_type": "markdown",
   "metadata": {},
   "source": [
    "## Calculo de valores"
   ]
  },
  {
   "cell_type": "code",
   "execution_count": 55,
   "metadata": {},
   "outputs": [
    {
     "name": "stdout",
     "output_type": "stream",
     "text": [
      "12.0\n"
     ]
    }
   ],
   "source": [
    "planet_moons = {\n",
    "    'mercury': 0,\n",
    "    'venus': 0,\n",
    "    'earth': 1,\n",
    "    'mars': 2,\n",
    "    'jupiter': 79,\n",
    "    'saturn': 82,\n",
    "    'uranus': 27,\n",
    "    'neptune': 14,\n",
    "    'pluto': 5,\n",
    "    'haumea': 2,\n",
    "    'makemake': 1,\n",
    "    'eris': 1\n",
    "}\n",
    "\n",
    "# Asignar values y keys\n",
    "moons = planet_moons.values();\n",
    "planets = len(planet_moons.values());\n",
    "\n",
    "total_moons = 0;\n",
    "for moon in moons:\n",
    "    total_moons = (total_moons + planets);\n",
    "    \n",
    "promedio = total_moons / planets;\n",
    "print(promedio);"
   ]
  }
 ],
 "metadata": {
  "interpreter": {
   "hash": "9efce205f64ad363cd9f14615485aca38ee4ef0915866e318aa83c8d0c93f6fc"
  },
  "kernelspec": {
   "display_name": "Python 3.10.2 64-bit",
   "language": "python",
   "name": "python3"
  },
  "language_info": {
   "codemirror_mode": {
    "name": "ipython",
    "version": 3
   },
   "file_extension": ".py",
   "mimetype": "text/x-python",
   "name": "python",
   "nbconvert_exporter": "python",
   "pygments_lexer": "ipython3",
   "version": "3.10.2"
  },
  "orig_nbformat": 4
 },
 "nbformat": 4,
 "nbformat_minor": 2
}
