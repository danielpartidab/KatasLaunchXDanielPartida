{
 "cells": [
  {
   "cell_type": "markdown",
   "metadata": {},
   "source": [
    "## Ejercicio Asteroide if, else y elif"
   ]
  },
  {
   "cell_type": "code",
   "execution_count": 1,
   "metadata": {},
   "outputs": [
    {
     "name": "stdout",
     "output_type": "stream",
     "text": [
      "Hay un asteroide acercandose demasiado rapido a la tierra\n"
     ]
    }
   ],
   "source": [
    "asteroide = 49;\n",
    "velocidad = 25;\n",
    "if asteroide > velocidad:\n",
    "    print (\"Hay un asteroide acercandose demasiado rapido a la tierra\")"
   ]
  },
  {
   "cell_type": "code",
   "execution_count": 2,
   "metadata": {},
   "outputs": [
    {
     "name": "stdout",
     "output_type": "stream",
     "text": [
      "NO hay asteroides cerca de la tierra\n"
     ]
    }
   ],
   "source": [
    "asteroide = 19;\n",
    "velocidad = 20;\n",
    "if asteroide > velocidad:\n",
    "    print (\"Hay un asteroide pasando muy rapido por la tierra\")\n",
    "elif asteroide >= velocidad:\n",
    "    print (\"Hay un asteroide pasando cerca de la tierra, salgan a verlo en el cielo\")\n",
    "else:\n",
    "    print (\"NO hay asteroides cerca de la tierra\")"
   ]
  },
  {
   "cell_type": "markdown",
   "metadata": {},
   "source": [
    "## Ejercicio Asteroide and y or"
   ]
  },
  {
   "cell_type": "code",
   "execution_count": 3,
   "metadata": {},
   "outputs": [
    {
     "name": "stdout",
     "output_type": "stream",
     "text": [
      "Se puede ver la luz de un asteroide en el cielo, salgan a verla\n"
     ]
    }
   ],
   "source": [
    "asteroide = 100;\n",
    "velocidad = 25;\n",
    "if velocidad > 25 and asteroide > 1000:\n",
    "    print (\"Hay un gran asteroide muy peligroso pasando cerca de la tierra\")\n",
    "elif asteroide >= 20:\n",
    "    print (\"Se puede ver la luz de un asteroide en el cielo, salgan a verla\")\n",
    "else:\n",
    "    print (\"NO hay asteroides cerca de la tierra\")"
   ]
  }
 ],
 "metadata": {
  "interpreter": {
   "hash": "9efce205f64ad363cd9f14615485aca38ee4ef0915866e318aa83c8d0c93f6fc"
  },
  "kernelspec": {
   "display_name": "Python 3.10.2 64-bit",
   "language": "python",
   "name": "python3"
  },
  "language_info": {
   "codemirror_mode": {
    "name": "ipython",
    "version": 3
   },
   "file_extension": ".py",
   "mimetype": "text/x-python",
   "name": "python",
   "nbconvert_exporter": "python",
   "pygments_lexer": "ipython3",
   "version": "3.10.2"
  },
  "orig_nbformat": 4
 },
 "nbformat": 4,
 "nbformat_minor": 2
}
