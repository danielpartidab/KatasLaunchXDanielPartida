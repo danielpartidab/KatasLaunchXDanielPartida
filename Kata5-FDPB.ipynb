{
 "cells": [
  {
   "cell_type": "markdown",
   "metadata": {},
   "source": [
    "## Operadores Aritmeticos"
   ]
  },
  {
   "cell_type": "code",
   "execution_count": 3,
   "metadata": {},
   "outputs": [
    {
     "name": "stdout",
     "output_type": "stream",
     "text": [
      "628949330\n",
      "390577533.93\n"
     ]
    }
   ],
   "source": [
    "# Declarar variables\n",
    "Tierra = 149597870;\n",
    "Jupiter = 778547200;\n",
    "Milla = 0.621;\n",
    "\n",
    "# Calcular distancias\n",
    "distKM = (Jupiter - Tierra);\n",
    "print (distKM);\n",
    "\n",
    "distMillas = ((Jupiter - Tierra) * Milla);\n",
    "print (distMillas);"
   ]
  },
  {
   "cell_type": "markdown",
   "metadata": {},
   "source": [
    "## Convertir Cadenas y valores"
   ]
  },
  {
   "cell_type": "code",
   "execution_count": 20,
   "metadata": {},
   "outputs": [
    {
     "name": "stdout",
     "output_type": "stream",
     "text": [
      "74999500000\n"
     ]
    }
   ],
   "source": [
    "# Variables de entrada\n",
    "distPla1 = input (\"Inserte la distancia del planeta 1\");\n",
    "distPla2 = input (\"Inserte la distancia del planeta 2\");\n",
    "\n",
    "# Convertir cadena a numero\n",
    "distPla1 = int(distPla1);\n",
    "distPla2 = int(distPla2);\n",
    "\n",
    "# Convertir resultado a Valor absoluto\n",
    "distAbs = (distPla1 - distPla2);\n",
    "if (distAbs) < 0:\n",
    "    negDist = abs(distAbs);\n",
    "    print (negDist);\n",
    "else: \n",
    "    print (distAbs);\n",
    "\n",
    "\n"
   ]
  }
 ],
 "metadata": {
  "interpreter": {
   "hash": "9efce205f64ad363cd9f14615485aca38ee4ef0915866e318aa83c8d0c93f6fc"
  },
  "kernelspec": {
   "display_name": "Python 3.10.2 64-bit",
   "language": "python",
   "name": "python3"
  },
  "language_info": {
   "codemirror_mode": {
    "name": "ipython",
    "version": 3
   },
   "file_extension": ".py",
   "mimetype": "text/x-python",
   "name": "python",
   "nbconvert_exporter": "python",
   "pygments_lexer": "ipython3",
   "version": "3.10.2"
  },
  "orig_nbformat": 4
 },
 "nbformat": 4,
 "nbformat_minor": 2
}
