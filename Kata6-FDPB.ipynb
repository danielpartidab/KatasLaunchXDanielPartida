{
 "cells": [
  {
   "cell_type": "markdown",
   "metadata": {},
   "source": [
    "## Lista con nombre de planetas"
   ]
  },
  {
   "cell_type": "code",
   "execution_count": 15,
   "metadata": {},
   "outputs": [
    {
     "name": "stdout",
     "output_type": "stream",
     "text": [
      "El total de planetas del sistema solar son:  8\n",
      "No hay que olvidar que a Pluton no lo quieren considerar planeta\n"
     ]
    }
   ],
   "source": [
    "# Creamos Lista de Planetas\n",
    "planets = ['Mercurio', 'Venus', 'Tierra', 'Marte', 'Jupiter', 'Saturno', 'Urano', 'Neptuno'];\n",
    "numbPlanets = len(planets);\n",
    "print ('El total de planetas del sistema solar son: ', numbPlanets);\n",
    "\n",
    "# Agregar Pluton a la lista\n",
    "planets.append('Pluton');\n",
    "print ('No hay que olvidar que a', planets[8], 'no lo quieren considerar planeta');"
   ]
  },
  {
   "cell_type": "code",
   "execution_count": 25,
   "metadata": {},
   "outputs": [
    {
     "name": "stdout",
     "output_type": "stream",
     "text": [
      "Tierra es el 3 planeta del sistema solar\n",
      "Los planetas mas cercanos al sol son: ['Mercurio', 'Venus']\n",
      "Los planetas mas lejanos al sol son: ['Marte', 'Jupiter', 'Saturno', 'Urano', 'Neptuno']\n"
     ]
    }
   ],
   "source": [
    "# Agregar nuevo planeta \n",
    "searchPlanet = input('Agregue un Planeta al sistema solar:');\n",
    "planets_index = planets.index(searchPlanet);\n",
    "print (searchPlanet, 'es el', planets_index + 1, 'planeta del sistema solar');\n",
    "\n",
    "# Buscar planeta mas cercano\n",
    "print ('Los planetas mas cercanos al sol son:', planets[0:planets_index]);\n",
    "\n",
    "# Buscar planeta mas lejano\n",
    "print ('Los planetas mas lejanos al sol son:', planets[planets_index + 1:]);"
   ]
  }
 ],
 "metadata": {
  "interpreter": {
   "hash": "9efce205f64ad363cd9f14615485aca38ee4ef0915866e318aa83c8d0c93f6fc"
  },
  "kernelspec": {
   "display_name": "Python 3.10.2 64-bit",
   "language": "python",
   "name": "python3"
  },
  "language_info": {
   "codemirror_mode": {
    "name": "ipython",
    "version": 3
   },
   "file_extension": ".py",
   "mimetype": "text/x-python",
   "name": "python",
   "nbconvert_exporter": "python",
   "pygments_lexer": "ipython3",
   "version": "3.10.2"
  },
  "orig_nbformat": 4
 },
 "nbformat": 4,
 "nbformat_minor": 2
}
