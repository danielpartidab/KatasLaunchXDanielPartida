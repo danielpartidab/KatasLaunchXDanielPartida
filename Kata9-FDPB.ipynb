{
 "cells": [
  {
   "cell_type": "markdown",
   "metadata": {},
   "source": [
    "## Argumentos en  Funciones"
   ]
  },
  {
   "cell_type": "code",
   "execution_count": 27,
   "metadata": {},
   "outputs": [
    {
     "name": "stdout",
     "output_type": "stream",
     "text": [
      "('El promedio del tanque es:', {15.0})\n",
      "('El promedio de los tanques es', {400.0})\n"
     ]
    }
   ],
   "source": [
    "# Crear funcion para 3 tanques y su promedio\n",
    "def tanques_gas(tanque1, tanque2, tanque3):\n",
    "    promedio_tanque = (tanque1 + tanque2 + tanque3) / 3;\n",
    "    return 'El promedio del tanque es:', {promedio_tanque}\n",
    "\n",
    "print (tanques_gas(10, 15, 20));\n",
    "\n",
    "# Funcion Promedio\n",
    "def promedioT(tanques):\n",
    "    sumatotal = sum(tanques);\n",
    "    notanques = len(tanques);\n",
    "    return sumatotal / notanques;\n",
    "\n",
    "##promedioT([100, 50, 150])\n",
    "\n",
    "# Funcion actualizada\n",
    "def tanquesact(tanquea, tanqueb, tanquec):\n",
    "    return 'El promedio de los tanques es', {promedioT([tanquea, tanqueb, tanquec])}\n",
    "\n",
    "print (tanquesact(200,400,600));"
   ]
  },
  {
   "cell_type": "markdown",
   "metadata": {},
   "source": [
    "## Argumentos con palabra clave"
   ]
  },
  {
   "cell_type": "code",
   "execution_count": 47,
   "metadata": {},
   "outputs": [
    {
     "name": "stdout",
     "output_type": "stream",
     "text": [
      "El despegue hacia Marte tomara [6] años gastando [30000] millones de litros de gasolina\n"
     ]
    },
    {
     "ename": "TypeError",
     "evalue": "unsupported operand type(s) for +: 'int' and 'str'",
     "output_type": "error",
     "traceback": [
      "\u001b[1;31m---------------------------------------------------------------------------\u001b[0m",
      "\u001b[1;31mTypeError\u001b[0m                                 Traceback (most recent call last)",
      "\u001b[1;32mc:\\Users\\danie\\Documents\\FullStackCourse\\LaunchX\\Kata9-FDPB.ipynb Cell 4'\u001b[0m in \u001b[0;36m<module>\u001b[1;34m\u001b[0m\n\u001b[0;32m      <a href='vscode-notebook-cell:/c%3A/Users/danie/Documents/FullStackCourse/LaunchX/Kata9-FDPB.ipynb#ch0000005?line=7'>8</a>\u001b[0m \u001b[39mdef\u001b[39;00m \u001b[39mcohete2\u001b[39m(destino, \u001b[39m*\u001b[39mtiempo, \u001b[39m*\u001b[39m\u001b[39m*\u001b[39mgasreserva):\n\u001b[0;32m      <a href='vscode-notebook-cell:/c%3A/Users/danie/Documents/FullStackCourse/LaunchX/Kata9-FDPB.ipynb#ch0000005?line=8'>9</a>\u001b[0m     \u001b[39mreturn\u001b[39;00m \u001b[39mf\u001b[39m\u001b[39m'\u001b[39m\u001b[39mEl despegue hacia \u001b[39m\u001b[39m{\u001b[39;00mdestino\u001b[39m}\u001b[39;00m\u001b[39m tomara \u001b[39m\u001b[39m{\u001b[39;00m\u001b[39msum\u001b[39m(tiempo)\u001b[39m}\u001b[39;00m\u001b[39m años gastando \u001b[39m\u001b[39m{\u001b[39;00m\u001b[39msum\u001b[39m(gasreserva)\u001b[39m}\u001b[39;00m\u001b[39m millones de litros de gasolina\u001b[39m\u001b[39m'\u001b[39m\n\u001b[1;32m---> <a href='vscode-notebook-cell:/c%3A/Users/danie/Documents/FullStackCourse/LaunchX/Kata9-FDPB.ipynb#ch0000005?line=10'>11</a>\u001b[0m \u001b[39mprint\u001b[39m (cohete2(\u001b[39m1\u001b[39;49m, \u001b[39m5\u001b[39;49m, \u001b[39m'\u001b[39;49m\u001b[39mMarte\u001b[39;49m\u001b[39m'\u001b[39;49m, \u001b[39m10000\u001b[39;49m, \u001b[39m20000\u001b[39;49m))\n",
      "\u001b[1;32mc:\\Users\\danie\\Documents\\FullStackCourse\\LaunchX\\Kata9-FDPB.ipynb Cell 4'\u001b[0m in \u001b[0;36mcohete2\u001b[1;34m(destino, *tiempo, **gasreserva)\u001b[0m\n\u001b[0;32m      <a href='vscode-notebook-cell:/c%3A/Users/danie/Documents/FullStackCourse/LaunchX/Kata9-FDPB.ipynb#ch0000005?line=7'>8</a>\u001b[0m \u001b[39mdef\u001b[39;00m \u001b[39mcohete2\u001b[39m(destino, \u001b[39m*\u001b[39mtiempo, \u001b[39m*\u001b[39m\u001b[39m*\u001b[39mgasreserva):\n\u001b[1;32m----> <a href='vscode-notebook-cell:/c%3A/Users/danie/Documents/FullStackCourse/LaunchX/Kata9-FDPB.ipynb#ch0000005?line=8'>9</a>\u001b[0m     \u001b[39mreturn\u001b[39;00m \u001b[39mf\u001b[39m\u001b[39m'\u001b[39m\u001b[39mEl despegue hacia \u001b[39m\u001b[39m{\u001b[39;00mdestino\u001b[39m}\u001b[39;00m\u001b[39m tomara \u001b[39m\u001b[39m{\u001b[39;00m\u001b[39msum\u001b[39m(tiempo)\u001b[39m}\u001b[39;00m\u001b[39m años gastando \u001b[39m\u001b[39m{\u001b[39;00m\u001b[39msum\u001b[39m(gasreserva)\u001b[39m}\u001b[39;00m\u001b[39m millones de litros de gasolina\u001b[39m\u001b[39m'\u001b[39m\n",
      "\u001b[1;31mTypeError\u001b[0m: unsupported operand type(s) for +: 'int' and 'str'"
     ]
    }
   ],
   "source": [
    "# Funcion con informacion de lanzamiento\n",
    "def cohete(horaLanz, vuelo, destino, tanqueext, tanqueint):\n",
    "    return f'El despegue hacia {destino} tomara {[horaLanz + vuelo]} años gastando {[tanqueext + tanqueint]} millones de litros de gasolina'\n",
    "\n",
    "print (cohete(1, 5, 'Marte', 10000, 20000));\n",
    "\n",
    "# Funcion considerando nuevos datos\n",
    "def cohete(destino, *tiempo, **gasreserva):\n",
    "    return f'El despegue hacia {destino} tomara {sum(tiempo)} años gastando {sum(gasreserva)} millones de litros de gasolina'\n",
    "\n",
    "print (cohete(1, 5, 'Marte', 10000, 20000));\n"
   ]
  }
 ],
 "metadata": {
  "interpreter": {
   "hash": "9efce205f64ad363cd9f14615485aca38ee4ef0915866e318aa83c8d0c93f6fc"
  },
  "kernelspec": {
   "display_name": "Python 3.10.2 64-bit",
   "language": "python",
   "name": "python3"
  },
  "language_info": {
   "codemirror_mode": {
    "name": "ipython",
    "version": 3
   },
   "file_extension": ".py",
   "mimetype": "text/x-python",
   "name": "python",
   "nbconvert_exporter": "python",
   "pygments_lexer": "ipython3",
   "version": "3.10.2"
  },
  "orig_nbformat": 4
 },
 "nbformat": 4,
 "nbformat_minor": 2
}
