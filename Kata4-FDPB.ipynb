{
 "cells": [
  {
   "cell_type": "markdown",
   "metadata": {},
   "source": [
    "## Formateando cadenas"
   ]
  },
  {
   "cell_type": "code",
   "execution_count": 1,
   "metadata": {},
   "outputs": [
    {
     "name": "stdout",
     "output_type": "stream",
     "text": [
      "Datos interesantes sobre la gravedad de la Moon\n",
      "Nombre del planeta: Earth\n",
      "\n",
      "Gravedad de la Moon: 1.6199999999999999\n"
     ]
    }
   ],
   "source": [
    "# Datos a trabajar\n",
    "name = \"Moon\"\n",
    "gravity = 0.00162 # in kms\n",
    "planet = \"Earth\"\n",
    "\n",
    "# Crear titulo\n",
    "Titulo = 'Datos interesantes sobre la gravedad de la {}\\n';\n",
    "\n",
    "# Crear plantilla\n",
    "Plantilla = f\"\"\"Nombre del planeta: {planet}\\n\n",
    "Gravedad de la {name}: {gravity * 1000}\"\"\"\n",
    "\n",
    "# Union de cadenas\n",
    "print (Titulo.format(name) + Plantilla.format(name, gravity));"
   ]
  },
  {
   "cell_type": "code",
   "execution_count": 2,
   "metadata": {},
   "outputs": [
    {
     "name": "stdout",
     "output_type": "stream",
     "text": [
      "Datos sobre la gravedad de Ganímedes\n",
      "\n",
      "Nombre del planeta: Marte \n",
      "\n",
      "Gravedad en Ganímedes: 1.4300000000000002\n"
     ]
    }
   ],
   "source": [
    "# Nuevos datos de muestra\n",
    "planeta = 'Marte '\n",
    "gravedad = 0.00143\n",
    "nombre = 'Ganímedes'\n",
    "\n",
    "new_Plantilla = f\"\"\"Datos sobre la gravedad de {nombre}\\n\n",
    "Nombre del planeta: {planeta}\\n\n",
    "Gravedad en {nombre}: {gravedad * 1000}\"\"\"\n",
    "\n",
    "print (new_Plantilla.format(planeta, nombre, gravedad))"
   ]
  },
  {
   "cell_type": "markdown",
   "metadata": {},
   "source": [
    "## Transformar Cadenas"
   ]
  },
  {
   "cell_type": "code",
   "execution_count": 3,
   "metadata": {},
   "outputs": [
    {
     "name": "stdout",
     "output_type": "stream",
     "text": [
      "On average, the Moon moves 4cm away from the Earth every year\n",
      "The highest daylight temperature of the Moon is 127 C.\n",
      "On average, the Moon moves 4cm away from the Earth every year\n",
      "The highest daylight temperature of the Moon is 127 Celsius.\n"
     ]
    }
   ],
   "source": [
    "text = \"\"\"Interesting facts about the Moon. The Moon is Earth's only satellite. There are several interesting facts about the Moon and how it affects life here on Earth. On average, the Moon moves 4cm away from the Earth every year. This yearly drift is not significant enough to cause immediate effects on Earth. The highest daylight temperature of the Moon is 127 C.\"\"\"\n",
    "\n",
    "# Dividir texto\n",
    "Moon = text.split('. ');\n",
    " \n",
    "# Busqueda palabras clave\n",
    "keywords = [\"average\", \"temperature\", \"distance\"];\n",
    "\n",
    "# Ciclo\n",
    "for Ciclo in Moon:\n",
    "    for Claves in keywords:\n",
    "        if Claves in Ciclo:\n",
    "            print (Ciclo); \n",
    "            break;\n",
    "\n",
    "\n",
    "# Ciclo 2\n",
    "for Ciclo in Moon:\n",
    "    for Claves in keywords:\n",
    "        if Claves in Ciclo:         \n",
    "            print (Ciclo.replace('C', 'Celsius'));\n",
    "            break;"
   ]
  }
 ],
 "metadata": {
  "interpreter": {
   "hash": "9efce205f64ad363cd9f14615485aca38ee4ef0915866e318aa83c8d0c93f6fc"
  },
  "kernelspec": {
   "display_name": "Python 3.10.2 64-bit",
   "language": "python",
   "name": "python3"
  },
  "language_info": {
   "codemirror_mode": {
    "name": "ipython",
    "version": 3
   },
   "file_extension": ".py",
   "mimetype": "text/x-python",
   "name": "python",
   "nbconvert_exporter": "python",
   "pygments_lexer": "ipython3",
   "version": "3.10.2"
  },
  "orig_nbformat": 4
 },
 "nbformat": 4,
 "nbformat_minor": 2
}
